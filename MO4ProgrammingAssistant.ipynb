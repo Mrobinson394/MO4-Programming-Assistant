{
 "cells": [
  {
   "cell_type": "code",
   "execution_count": null,
   "id": "ae02d687-cd74-4bb1-984f-d6b2d719456e",
   "metadata": {},
   "outputs": [],
   "source": [
    "# zoo.py\n",
    "def hours():\n",
    "    print('Open 9-5 daily')\n"
   ]
  },
  {
   "cell_type": "markdown",
   "id": "5a0a6bc1-fa43-4083-9391-4049a65bc32c",
   "metadata": {},
   "source": [
    "### 11.1 Create a file called zoo.py and define the hours function\n",
    "\n",
    "We created a Python file called `zoo.py` with the following function:\n",
    "```python\n",
    "def hours():\n",
    "    print('Open 9-5 daily')\n"
   ]
  },
  {
   "cell_type": "code",
   "execution_count": null,
   "id": "86fe669c-eb9f-4320-9618-99bba55494c8",
   "metadata": {},
   "outputs": [],
   "source": [
    "\n",
    "#### Jupyter Notebook Interactive Code:\n",
    "```python\n",
    "# Importing the zoo module and calling the hours function\n",
    "import zoo\n",
    "zoo.hours()\n"
   ]
  },
  {
   "cell_type": "markdown",
   "id": "d6ff7ab5-1a22-472a-84cf-9fee73c39831",
   "metadata": {},
   "source": [
    "### 11.2 Import zoo as menagerie and call hours function\n",
    "\n",
    "In this section, we import the `zoo` module as `menagerie` and then call the `hours()` function.\n"
   ]
  },
  {
   "cell_type": "code",
   "execution_count": null,
   "id": "2eceaaf0-9601-44dc-b189-8f2ab97243e3",
   "metadata": {},
   "outputs": [],
   "source": [
    "# Importing zoo as menagerie and calling the hours function\n",
    "import zoo as menagerie\n",
    "menagerie.hours()\n"
   ]
  },
  {
   "cell_type": "markdown",
   "id": "01b0ca8b-ce63-43e3-91c7-c21f8a7c475b",
   "metadata": {},
   "source": [
    "### 16.8 Using SQLAlchemy to connect to the SQLite3 database `books.db`\n",
    "\n",
    "We will connect to the `books.db` database, retrieve the `title` column from the `book` table, and print the results in alphabetical order.\n"
   ]
  },
  {
   "cell_type": "code",
   "execution_count": null,
   "id": "6d9b1c43-217e-4491-a7c0-0bb4099acbdc",
   "metadata": {},
   "outputs": [],
   "source": [
    "# Import necessary libraries\n",
    "from sqlalchemy import create_engine, MetaData, Table, select\n",
    "\n",
    "# Create connection to SQLite database\n",
    "engine = create_engine('sqlite:///books.db')\n",
    "connection = engine.connect()\n",
    "metadata = MetaData()\n",
    "\n",
    "# Reflect the book table\n",
    "book_table = Table('book', metadata, autoload_with=engine)\n",
    "\n",
    "# Select the title column and order alphabetically\n",
    "query = select([book_table.c.title]).order_by(book_table.c.title)\n",
    "result = connection.execute(query)\n",
    "\n",
    "# Print titles in alphabetical order\n",
    "for row in result:\n",
    "    print(row[0])\n",
    "\n",
    "# Close connection\n",
    "connection.close()\n"
   ]
  }
 ],
 "metadata": {
  "kernelspec": {
   "display_name": "Python 3 (ipykernel)",
   "language": "python",
   "name": "python3"
  },
  "language_info": {
   "codemirror_mode": {
    "name": "ipython",
    "version": 3
   },
   "file_extension": ".py",
   "mimetype": "text/x-python",
   "name": "python",
   "nbconvert_exporter": "python",
   "pygments_lexer": "ipython3",
   "version": "3.12.4"
  }
 },
 "nbformat": 4,
 "nbformat_minor": 5
}
